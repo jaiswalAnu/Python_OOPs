{
 "cells": [
  {
   "cell_type": "code",
   "execution_count": 1,
   "id": "342efa0a-4ea4-47b1-a1e6-06de69c7ebd7",
   "metadata": {},
   "outputs": [],
   "source": [
    "#decorators>> allows to modify or extend the behaviour or functions/class without directly modifying their  original code\n",
    "#similar to you decorating your room (putting different lights, sticker, posters)>>extends/decorates the basic behaviour of room\n"
   ]
  },
  {
   "cell_type": "code",
   "execution_count": 2,
   "id": "60fe3252-aece-4dbe-988f-3390e34aa7a4",
   "metadata": {},
   "outputs": [],
   "source": [
    "#function decorators and class decorators\n",
    "\n",
    "#function decorators"
   ]
  },
  {
   "cell_type": "raw",
   "id": "fbc1f707-2a5a-4395-a346-2ca7934e5525",
   "metadata": {},
   "source": [
    "#To understand use case>> say you want to use the line before compuation and after computation after each time you create a function or call function. So it will take a lot of time to type the lines repeatatively\n",
    "#And thatwhy the concept of decorators comes into the picture"
   ]
  },
  {
   "cell_type": "code",
   "execution_count": 5,
   "id": "1bbd8501-8f6a-4b7c-9a8f-b527439f23aa",
   "metadata": {},
   "outputs": [],
   "source": [
    "\n",
    "def my_decorator_func():\n",
    "    print(\"The line before computation.\")\n",
    "    print(11*1200) #decorating the actual computation with line above and line below\n",
    "    print(\"The line after computation\")\n",
    "#In the above approach you have to write all the line as many times as you are creating the different functions\n",
    "#lets see the decorator approach"
   ]
  },
  {
   "cell_type": "code",
   "execution_count": 4,
   "id": "a1e66a05-bea6-417d-8b3a-b67debfdb477",
   "metadata": {},
   "outputs": [
    {
     "name": "stdout",
     "output_type": "stream",
     "text": [
      "The line before computation.\n",
      "13200\n",
      "The line after computation\n"
     ]
    }
   ],
   "source": [
    "my_decorator_func()"
   ]
  },
  {
   "cell_type": "code",
   "execution_count": 10,
   "id": "2230c54b-aeec-49fc-ba45-80a16223dcd8",
   "metadata": {},
   "outputs": [],
   "source": [
    "#decorator approach for functions>>use case 1\n",
    "def my_decorator(func): #decorator function that takes another func as arguement\n",
    "    def wrapper(): #wrapper is a nested function that adds the functionality before and after calling original func func\n",
    "        print(\"The line before computation.\")\n",
    "        func() #say_hello which is the func here will be executed here\n",
    "        print(\"The line after computation\")\n",
    "    return wrapper"
   ]
  },
  {
   "cell_type": "code",
   "execution_count": 15,
   "id": "3decf312-12a9-48aa-b0f6-9c45b1c11e62",
   "metadata": {},
   "outputs": [],
   "source": [
    "@my_decorator #syntax to decorate the say hello function\n",
    "def say_hello():\n",
    "    print(\"Hello\")"
   ]
  },
  {
   "cell_type": "code",
   "execution_count": 16,
   "id": "e7ecd14d-c19e-4358-8b23-7f981c7ab127",
   "metadata": {},
   "outputs": [
    {
     "name": "stdout",
     "output_type": "stream",
     "text": [
      "The line before computation.\n",
      "Hello\n",
      "The line after computation\n"
     ]
    }
   ],
   "source": [
    "say_hello()\n",
    "#when say_hello is called, it is actually first calling the decorator function>>\n",
    "#which in return is calling wrapper function and then wrapped function is printing the line\n",
    "#and callig the say_hello function"
   ]
  },
  {
   "cell_type": "code",
   "execution_count": 21,
   "id": "61386518-d150-4263-b41f-0905c7dc388e",
   "metadata": {},
   "outputs": [],
   "source": [
    "#another use case of function decorator\n",
    "#run time of a code\n",
    "\n",
    "import time\n",
    "def timer_decorator(func):\n",
    "    def timer():\n",
    "        start = time.time()\n",
    "        func()\n",
    "        end = time.time()\n",
    "        print(\"The time for executing the code\", end-start)\n",
    "    return timer"
   ]
  },
  {
   "cell_type": "code",
   "execution_count": 22,
   "id": "0d15b6ff-d409-477b-957d-1224a4d3bb4f",
   "metadata": {},
   "outputs": [],
   "source": [
    "@timer_decorator\n",
    "def func_test():\n",
    "    print(1100000*1000)"
   ]
  },
  {
   "cell_type": "code",
   "execution_count": 23,
   "id": "41c48b07-c25b-41af-98bb-f55a34cda551",
   "metadata": {},
   "outputs": [
    {
     "name": "stdout",
     "output_type": "stream",
     "text": [
      "1100000000\n",
      "The time for executing the code 5.316734313964844e-05\n"
     ]
    }
   ],
   "source": [
    "func_test()"
   ]
  },
  {
   "cell_type": "code",
   "execution_count": 24,
   "id": "52b21817-d7d4-47bf-8dbe-02f9952b6396",
   "metadata": {},
   "outputs": [
    {
     "name": "stdout",
     "output_type": "stream",
     "text": [
      "1331000\n",
      "The time for executing the code 5.626678466796875e-05\n"
     ]
    }
   ],
   "source": [
    "@timer_decorator\n",
    "def func_test1():\n",
    "    print(1100000 + 1000* 231)\n",
    "    \n",
    "func_test1()"
   ]
  },
  {
   "cell_type": "code",
   "execution_count": 25,
   "id": "10bd6851-b043-45a8-b352-f207514489b2",
   "metadata": {},
   "outputs": [],
   "source": [
    "#why do need decorators?\n",
    "#reusability of code >> reuse the common code\n",
    "#enhancing the function without modifying the original function\n",
    "#use cases>> execution time of code, logging, caching, validation"
   ]
  },
  {
   "cell_type": "code",
   "execution_count": 37,
   "id": "c4fc0a5a-f416-42c5-9daf-77b093da376d",
   "metadata": {},
   "outputs": [],
   "source": [
    "#class decorators>>\n",
    "class MyDecorator:\n",
    "    def __init__(self, func): #similar to function decorator you are passing func in class decorator\n",
    "        self.func=func\n",
    "        print(\"Inside the init method\")\n",
    "    def __call__(self): \n",
    "        print(\"Something is happening before function.\")\n",
    "        self.func()\n",
    "        print(\"Something is happening after function.\")\n",
    "    "
   ]
  },
  {
   "cell_type": "code",
   "execution_count": 38,
   "id": "3c8e7c69-a2ca-4ac9-ae7f-deebde2ae3ea",
   "metadata": {},
   "outputs": [
    {
     "name": "stdout",
     "output_type": "stream",
     "text": [
      "Inside the init method\n",
      "Something is happening before function.\n",
      "Hello\n",
      "Something is happening after function.\n"
     ]
    }
   ],
   "source": [
    "@MyDecorator #class __call__ will be executed as the object if the class will be called as function>> so first __init__ and then __call__method will be executed\n",
    "def say_hello():\n",
    "    print(\"Hello\")\n",
    "say_hello()"
   ]
  },
  {
   "cell_type": "raw",
   "id": "ffece2b8-8e1a-448d-a13b-aa3769beb768",
   "metadata": {},
   "source": [
    "#__call__ is  special method which is called/invoked when you call instance/object of the class as a function"
   ]
  },
  {
   "cell_type": "code",
   "execution_count": 34,
   "id": "e3905482-9b90-4c94-8c52-d36b365029ba",
   "metadata": {},
   "outputs": [
    {
     "name": "stdout",
     "output_type": "stream",
     "text": [
      "Inside the init method\n"
     ]
    }
   ],
   "source": [
    "class MyDecorator:\n",
    "    def __init__(self): #similar to function decorator you are passing func in class decorator\n",
    "        # self.func=func\n",
    "        print(\"Inside the init method\")\n",
    "    def __call__(self): \n",
    "        print(\"Something is happening before function.\")\n",
    "        # self.func()\n",
    "        print(\"Something is happening after function.\")\n",
    "    \n",
    "\n"
   ]
  },
  {
   "cell_type": "code",
   "execution_count": 35,
   "id": "026146b7-1e54-4d45-953b-a89a038331d6",
   "metadata": {},
   "outputs": [
    {
     "name": "stdout",
     "output_type": "stream",
     "text": [
      "Inside the init method\n"
     ]
    }
   ],
   "source": [
    "obj1 = MyDecorator() #when you make an object of the class, init is executed first"
   ]
  },
  {
   "cell_type": "code",
   "execution_count": 36,
   "id": "9ef01fe1-11d6-4ac5-8ab7-274f795f6f80",
   "metadata": {},
   "outputs": [
    {
     "name": "stdout",
     "output_type": "stream",
     "text": [
      "Something is happening before function.\n",
      "Something is happening after function.\n"
     ]
    }
   ],
   "source": [
    "obj1() #when you call an object of a class as function __call__ method will be invoked"
   ]
  },
  {
   "cell_type": "code",
   "execution_count": 39,
   "id": "4875dd9a-773f-4900-ac4f-0fa2d7373bfa",
   "metadata": {},
   "outputs": [],
   "source": [
    "#some inbuilt decorators >> details in the next class\n",
    "#@classmethod >> The method that takes the class itself as the first argument"
   ]
  },
  {
   "cell_type": "code",
   "execution_count": 43,
   "id": "3632f016-baca-46bf-bd8f-b8fb6d80293c",
   "metadata": {},
   "outputs": [],
   "source": [
    "class Math:\n",
    "    @classmethod #takes reference to the class itself to modify and access class level attributes\n",
    "    def add(cls, x, y):\n",
    "        return cls.__name__, x + y  #cls.__name__>> class Math"
   ]
  },
  {
   "cell_type": "code",
   "execution_count": 44,
   "id": "66d31264-87d7-4a6f-86e6-2446d5919363",
   "metadata": {},
   "outputs": [
    {
     "data": {
      "text/plain": [
       "('Math', 8)"
      ]
     },
     "execution_count": 44,
     "metadata": {},
     "output_type": "execute_result"
    }
   ],
   "source": [
    "#you dontt need any init method to take data\n",
    "Math.add(3, 5)"
   ]
  },
  {
   "cell_type": "code",
   "execution_count": 45,
   "id": "f3208540-b41d-4e93-98fc-b723029d62b1",
   "metadata": {},
   "outputs": [],
   "source": [
    "#class method is bound to class and not the instance of the class,\n",
    "#class itsef as the first argument>> conventionally cls "
   ]
  },
  {
   "cell_type": "code",
   "execution_count": 46,
   "id": "2b02dff6-484f-4d23-be44-cc92716111fa",
   "metadata": {},
   "outputs": [],
   "source": [
    "#next inbuild decorator is static method\n",
    "#static method>> the method which can be called without creating any instance of class, adn without using self or self"
   ]
  },
  {
   "cell_type": "code",
   "execution_count": 47,
   "id": "d64cb3e2-1093-487a-9b3f-bf17f3d36f87",
   "metadata": {},
   "outputs": [],
   "source": [
    "#earlier\n",
    "class Math:\n",
    "    def add(self, x, y):\n",
    "        return x+y"
   ]
  },
  {
   "cell_type": "code",
   "execution_count": 48,
   "id": "15fdf6c9-b46c-4cdb-bbdf-d1c6bb0b7b37",
   "metadata": {},
   "outputs": [],
   "source": [
    "a = Math() #make object/instance"
   ]
  },
  {
   "cell_type": "code",
   "execution_count": 49,
   "id": "d66d7165-fca9-4971-b5e7-e9c353efa87e",
   "metadata": {},
   "outputs": [
    {
     "data": {
      "text/plain": [
       "5"
      ]
     },
     "execution_count": 49,
     "metadata": {},
     "output_type": "execute_result"
    }
   ],
   "source": [
    "a.add(2, 3) #this is the way to call regular class method"
   ]
  },
  {
   "cell_type": "code",
   "execution_count": 50,
   "id": "a17b2d29-14c4-4777-877a-20e5199554f5",
   "metadata": {},
   "outputs": [],
   "source": [
    "#use of static method\n",
    "class Math:\n",
    "    @staticmethod\n",
    "    def add(x, y): #no need of self or cls\n",
    "        return x+y"
   ]
  },
  {
   "cell_type": "code",
   "execution_count": 51,
   "id": "4a121572-3aa7-49b3-8430-a968104fbd10",
   "metadata": {},
   "outputs": [
    {
     "data": {
      "text/plain": [
       "5"
      ]
     },
     "execution_count": 51,
     "metadata": {},
     "output_type": "execute_result"
    }
   ],
   "source": [
    "Math.add(2, 3) #no need of making any object"
   ]
  },
  {
   "cell_type": "code",
   "execution_count": 52,
   "id": "375f6124-48d5-4276-b325-1b8d71ab9235",
   "metadata": {},
   "outputs": [],
   "source": [
    "#class method to be used when you want to modify class level data\n",
    "#static method>> when you dont want to interact with class level data"
   ]
  },
  {
   "cell_type": "code",
   "execution_count": 53,
   "id": "c384f1c7-0b82-4923-a94a-d19548d95f5c",
   "metadata": {},
   "outputs": [],
   "source": [
    "#property decorator>>It allows method to be accessed as attribute"
   ]
  },
  {
   "cell_type": "code",
   "execution_count": 54,
   "id": "c8af7aec-5d7e-4e93-89c0-ba6c3328829a",
   "metadata": {},
   "outputs": [],
   "source": [
    "class Circle:\n",
    "    def __init__(self, radius):\n",
    "        self.radius = radius"
   ]
  },
  {
   "cell_type": "code",
   "execution_count": 55,
   "id": "84d25265-3feb-4234-a8e8-0f91b1293a9d",
   "metadata": {},
   "outputs": [],
   "source": [
    "obj = Circle(5)"
   ]
  },
  {
   "cell_type": "code",
   "execution_count": 56,
   "id": "9ccf0094-b9a9-409b-97db-37db951080c6",
   "metadata": {},
   "outputs": [
    {
     "data": {
      "text/plain": [
       "5"
      ]
     },
     "execution_count": 56,
     "metadata": {},
     "output_type": "execute_result"
    }
   ],
   "source": [
    "obj.radius #accessing data/attibute"
   ]
  },
  {
   "cell_type": "code",
   "execution_count": 60,
   "id": "e619bfa0-5905-4b71-b8f1-c4bd70c7f7a0",
   "metadata": {},
   "outputs": [],
   "source": [
    "class Circle:\n",
    "    def __init__(self, radius):\n",
    "        self.radius = radius\n",
    "    def area(self):\n",
    "        radius = self.radius\n",
    "        return 3.14*radius**2"
   ]
  },
  {
   "cell_type": "code",
   "execution_count": 62,
   "id": "8e54aa3c-cc83-4d37-bd7d-9b3be8949daf",
   "metadata": {},
   "outputs": [
    {
     "data": {
      "text/plain": [
       "5"
      ]
     },
     "execution_count": 62,
     "metadata": {},
     "output_type": "execute_result"
    }
   ],
   "source": [
    "obj = Circle(5)\n",
    "obj.radius"
   ]
  },
  {
   "cell_type": "code",
   "execution_count": 63,
   "id": "d47f7322-1677-4fb6-bea5-e4412b1e2977",
   "metadata": {},
   "outputs": [
    {
     "data": {
      "text/plain": [
       "78.5"
      ]
     },
     "execution_count": 63,
     "metadata": {},
     "output_type": "execute_result"
    }
   ],
   "source": [
    "obj.area() #earlier"
   ]
  },
  {
   "cell_type": "code",
   "execution_count": 65,
   "id": "3e8032ae-3e7f-4251-8fbf-c00381df5c77",
   "metadata": {},
   "outputs": [],
   "source": [
    "#using proertu decorator\n",
    "class Circle:\n",
    "    def __init__(self, radius):\n",
    "        self.radius = radius\n",
    "    @property\n",
    "    def area(self):\n",
    "        radius = self.radius\n",
    "        return 3.14*radius**2"
   ]
  },
  {
   "cell_type": "code",
   "execution_count": 67,
   "id": "5054d042-7130-4075-aaba-437dd7765f6e",
   "metadata": {},
   "outputs": [
    {
     "data": {
      "text/plain": [
       "78.5"
      ]
     },
     "execution_count": 67,
     "metadata": {},
     "output_type": "execute_result"
    }
   ],
   "source": [
    "obj1 = Circle(5)\n",
    "obj1.area #no need of parenthis"
   ]
  },
  {
   "cell_type": "code",
   "execution_count": null,
   "id": "0283b6cb-cb75-420b-b193-d98d376731f3",
   "metadata": {},
   "outputs": [],
   "source": []
  }
 ],
 "metadata": {
  "kernelspec": {
   "display_name": "Python 3 (ipykernel)",
   "language": "python",
   "name": "python3"
  },
  "language_info": {
   "codemirror_mode": {
    "name": "ipython",
    "version": 3
   },
   "file_extension": ".py",
   "mimetype": "text/x-python",
   "name": "python",
   "nbconvert_exporter": "python",
   "pygments_lexer": "ipython3",
   "version": "3.10.8"
  }
 },
 "nbformat": 4,
 "nbformat_minor": 5
}
